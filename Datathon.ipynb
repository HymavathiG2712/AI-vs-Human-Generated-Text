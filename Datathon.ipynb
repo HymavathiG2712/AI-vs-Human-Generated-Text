{
 "cells": [
  {
   "cell_type": "code",
   "execution_count": 1,
   "id": "c132a452-10e1-4fa2-bf0e-c013608396d9",
   "metadata": {},
   "outputs": [],
   "source": [
    "import pandas as pd\n",
    "import numpy as np"
   ]
  },
  {
   "cell_type": "code",
   "execution_count": 2,
   "id": "aa2df39a-6e76-403f-8f68-bf308989cab7",
   "metadata": {},
   "outputs": [],
   "source": [
    "import pandas as pd\n",
    "from sklearn.model_selection import train_test_split\n",
    "\n",
    "# Load dataset\n",
    "df = pd.read_csv('aihu.csv')"
   ]
  },
  {
   "cell_type": "code",
   "execution_count": 3,
   "id": "42a740d6-cc82-48ce-b4ef-e077045a7356",
   "metadata": {},
   "outputs": [
    {
     "data": {
      "text/html": [
       "<div>\n",
       "<style scoped>\n",
       "    .dataframe tbody tr th:only-of-type {\n",
       "        vertical-align: middle;\n",
       "    }\n",
       "\n",
       "    .dataframe tbody tr th {\n",
       "        vertical-align: top;\n",
       "    }\n",
       "\n",
       "    .dataframe thead th {\n",
       "        text-align: right;\n",
       "    }\n",
       "</style>\n",
       "<table border=\"1\" class=\"dataframe\">\n",
       "  <thead>\n",
       "    <tr style=\"text-align: right;\">\n",
       "      <th></th>\n",
       "      <th>text</th>\n",
       "      <th>generated</th>\n",
       "    </tr>\n",
       "  </thead>\n",
       "  <tbody>\n",
       "    <tr>\n",
       "      <th>0</th>\n",
       "      <td>Car-free cities have become a subject of incre...</td>\n",
       "      <td>1</td>\n",
       "    </tr>\n",
       "    <tr>\n",
       "      <th>1</th>\n",
       "      <td>Car Free Cities  Car-free cities, a concept ga...</td>\n",
       "      <td>1</td>\n",
       "    </tr>\n",
       "    <tr>\n",
       "      <th>2</th>\n",
       "      <td>A Sustainable Urban Future  Car-free cities ...</td>\n",
       "      <td>1</td>\n",
       "    </tr>\n",
       "    <tr>\n",
       "      <th>3</th>\n",
       "      <td>Pioneering Sustainable Urban Living  In an e...</td>\n",
       "      <td>1</td>\n",
       "    </tr>\n",
       "  </tbody>\n",
       "</table>\n",
       "</div>"
      ],
      "text/plain": [
       "                                                text  generated\n",
       "0  Car-free cities have become a subject of incre...          1\n",
       "1  Car Free Cities  Car-free cities, a concept ga...          1\n",
       "2    A Sustainable Urban Future  Car-free cities ...          1\n",
       "3    Pioneering Sustainable Urban Living  In an e...          1"
      ]
     },
     "execution_count": 3,
     "metadata": {},
     "output_type": "execute_result"
    }
   ],
   "source": [
    "df.head(4)\n",
    "#0 - human \n",
    "#1 - ai"
   ]
  },
  {
   "cell_type": "code",
   "execution_count": 4,
   "id": "43d6deac-0f4e-45ec-bb35-359dea40e20d",
   "metadata": {},
   "outputs": [],
   "source": [
    "# df.rename(columns = {'Data':'text'}, inplace = True) \n",
    "df.rename(columns = {'generated':'class'}, inplace = True) "
   ]
  },
  {
   "cell_type": "code",
   "execution_count": 5,
   "id": "8a185947-3646-4982-929d-ac5b9e2e618d",
   "metadata": {
    "scrolled": true
   },
   "outputs": [
    {
     "name": "stdout",
     "output_type": "stream",
     "text": [
      "\n",
      "Missing values in each column:\n",
      "text     0\n",
      "class    0\n",
      "dtype: int64\n",
      "\n",
      "Class distribution:\n",
      "class\n",
      "0    17508\n",
      "1    11637\n",
      "Name: count, dtype: int64\n",
      "\n",
      "Training set size: 23316\n",
      "Testing set size: 5829\n"
     ]
    }
   ],
   "source": [
    "# Check for missing values\n",
    "print(\"\\nMissing values in each column:\")\n",
    "print(df.isnull().sum())\n",
    "\n",
    "# Check for class balance\n",
    "print(\"\\nClass distribution:\")\n",
    "print(df['class'].value_counts())\n",
    "\n",
    "# Basic preprocessing: removing missing values\n",
    "df.dropna(inplace=True)\n",
    "\n",
    "# Split dataset into training and testing\n",
    "X_train, X_test, y_train, y_test = train_test_split(df['text'], df['class'], test_size=0.2, random_state=42)\n",
    "\n",
    "# Output the size of the splits\n",
    "print(\"\\nTraining set size:\", X_train.shape[0])\n",
    "print(\"Testing set size:\", X_test.shape[0])"
   ]
  },
  {
   "cell_type": "code",
   "execution_count": 6,
   "id": "bd02f3be-1ae1-400d-ad8e-cb91560794a9",
   "metadata": {
    "scrolled": true
   },
   "outputs": [
    {
     "name": "stderr",
     "output_type": "stream",
     "text": [
      "2024-03-24 23:07:28.665769: E external/local_xla/xla/stream_executor/cuda/cuda_dnn.cc:9261] Unable to register cuDNN factory: Attempting to register factory for plugin cuDNN when one has already been registered\n",
      "2024-03-24 23:07:28.665821: E external/local_xla/xla/stream_executor/cuda/cuda_fft.cc:607] Unable to register cuFFT factory: Attempting to register factory for plugin cuFFT when one has already been registered\n",
      "2024-03-24 23:07:28.667740: E external/local_xla/xla/stream_executor/cuda/cuda_blas.cc:1515] Unable to register cuBLAS factory: Attempting to register factory for plugin cuBLAS when one has already been registered\n",
      "2024-03-24 23:07:28.679492: I tensorflow/core/platform/cpu_feature_guard.cc:182] This TensorFlow binary is optimized to use available CPU instructions in performance-critical operations.\n",
      "To enable the following instructions: AVX2 FMA, in other operations, rebuild TensorFlow with the appropriate compiler flags.\n"
     ]
    },
    {
     "name": "stdout",
     "output_type": "stream",
     "text": [
      "Shape of training data: (23316, 250)\n",
      "Shape of testing data: (5829, 250)\n"
     ]
    }
   ],
   "source": [
    "from tensorflow.keras.preprocessing.text import Tokenizer\n",
    "from tensorflow.keras.preprocessing.sequence import pad_sequences\n",
    "\n",
    "# Set maximum number of words to keep, based on word frequency\n",
    "MAX_WORDS = 10000  \n",
    "MAX_SEQUENCE_LENGTH = 250  \n",
    "\n",
    "# Initialize the tokenizer\n",
    "tokenizer = Tokenizer(num_words=MAX_WORDS, oov_token=\"<OOV>\")\n",
    "tokenizer.fit_on_texts(X_train)\n",
    "\n",
    "# Convert texts to sequences of integers\n",
    "X_train_seq = tokenizer.texts_to_sequences(X_train)\n",
    "X_test_seq = tokenizer.texts_to_sequences(X_test)\n",
    "\n",
    "# Pad sequences to ensure uniform length\n",
    "X_train_padded = pad_sequences(X_train_seq, maxlen=MAX_SEQUENCE_LENGTH, padding='post', truncating='post')\n",
    "X_test_padded = pad_sequences(X_test_seq, maxlen=MAX_SEQUENCE_LENGTH, padding='post', truncating='post')\n",
    "\n",
    "print(\"Shape of training data:\", X_train_padded.shape)\n",
    "print(\"Shape of testing data:\", X_test_padded.shape)"
   ]
  },
  {
   "cell_type": "code",
   "execution_count": 7,
   "id": "99ca805c-97bf-4e43-a025-77de2d92ae0b",
   "metadata": {},
   "outputs": [],
   "source": [
    "import numpy as np\n",
    "\n",
    "# Calculate simple linguistic features\n",
    "X_train_lengths = np.array([len(text.split()) for text in X_train])  # Text length\n",
    "X_train_avg_word_length = np.array([np.mean([len(word) for word in text.split()]) for text in X_train])  # Average word length\n",
    "\n",
    "X_test_lengths = np.array([len(text.split()) for text in X_test])\n",
    "X_test_avg_word_length = np.array([np.mean([len(word) for word in text.split()]) for text in X_test])\n",
    "\n",
    "# Stack features together for MLP input\n",
    "X_train_features = np.vstack((X_train_lengths, X_train_avg_word_length)).T\n",
    "X_test_features = np.vstack((X_test_lengths, X_test_avg_word_length)).T\n"
   ]
  },
  {
   "cell_type": "code",
   "execution_count": 8,
   "id": "f6f4ce0a-0cbb-4b8b-b2f7-3b0b7ee79203",
   "metadata": {
    "scrolled": true
   },
   "outputs": [],
   "source": [
    "from tensorflow.keras.models import Sequential\n",
    "from tensorflow.keras.layers import Embedding, Conv1D, GlobalMaxPooling1D, Dense\n",
    "\n",
    "# Model parameters\n",
    "VOCAB_SIZE = min(MAX_WORDS, len(tokenizer.word_index) + 1)  # Vocabulary size\n",
    "EMBEDDING_DIM = 100  # Size of the embedding vectors \n",
    "FILTERS = 128  # Number of filters for the Conv layer\n",
    "KERNEL_SIZE = 5  # Size of the kernel for the Conv layer\n",
    "DENSE_UNITS = 10  # Number of units in the Dense layer"
   ]
  },
  {
   "cell_type": "code",
   "execution_count": 9,
   "id": "72a714a4-9648-45b8-89f6-bfc1427438aa",
   "metadata": {},
   "outputs": [
    {
     "name": "stdout",
     "output_type": "stream",
     "text": [
      "Model: \"model\"\n",
      "__________________________________________________________________________________________________\n",
      " Layer (type)                Output Shape                 Param #   Connected to                  \n",
      "==================================================================================================\n",
      " input_1 (InputLayer)        [(None, 250)]                0         []                            \n",
      "                                                                                                  \n",
      " embedding (Embedding)       (None, 250, 100)             1000000   ['input_1[0][0]']             \n",
      "                                                                                                  \n",
      " conv1d (Conv1D)             (None, 246, 128)             64128     ['embedding[0][0]']           \n",
      "                                                                                                  \n",
      " input_2 (InputLayer)        [(None, 2)]                  0         []                            \n",
      "                                                                                                  \n",
      " global_max_pooling1d (Glob  (None, 128)                  0         ['conv1d[0][0]']              \n",
      " alMaxPooling1D)                                                                                  \n",
      "                                                                                                  \n",
      " dense (Dense)               (None, 10)                   30        ['input_2[0][0]']             \n",
      "                                                                                                  \n",
      " concatenate (Concatenate)   (None, 138)                  0         ['global_max_pooling1d[0][0]',\n",
      "                                                                     'dense[0][0]']               \n",
      "                                                                                                  \n",
      " dense_1 (Dense)             (None, 1)                    139       ['concatenate[0][0]']         \n",
      "                                                                                                  \n",
      "==================================================================================================\n",
      "Total params: 1064297 (4.06 MB)\n",
      "Trainable params: 1064297 (4.06 MB)\n",
      "Non-trainable params: 0 (0.00 Byte)\n",
      "__________________________________________________________________________________________________\n"
     ]
    },
    {
     "name": "stderr",
     "output_type": "stream",
     "text": [
      "2024-03-24 23:08:01.063719: I tensorflow/core/common_runtime/gpu/gpu_device.cc:1929] Created device /job:localhost/replica:0/task:0/device:GPU:0 with 9611 MB memory:  -> device: 0, name: NVIDIA GeForce RTX 2080 Ti, pci bus id: 0000:08:00.0, compute capability: 7.5\n",
      "2024-03-24 23:08:01.065404: I tensorflow/core/common_runtime/gpu/gpu_device.cc:1929] Created device /job:localhost/replica:0/task:0/device:GPU:1 with 9491 MB memory:  -> device: 1, name: NVIDIA GeForce RTX 2080 Ti, pci bus id: 0000:09:00.0, compute capability: 7.5\n",
      "2024-03-24 23:08:01.066811: I tensorflow/core/common_runtime/gpu/gpu_device.cc:1929] Created device /job:localhost/replica:0/task:0/device:GPU:2 with 9491 MB memory:  -> device: 2, name: NVIDIA GeForce RTX 2080 Ti, pci bus id: 0000:87:00.0, compute capability: 7.5\n",
      "2024-03-24 23:08:01.068142: I tensorflow/core/common_runtime/gpu/gpu_device.cc:1929] Created device /job:localhost/replica:0/task:0/device:GPU:3 with 7285 MB memory:  -> device: 3, name: NVIDIA GeForce GTX 1080, pci bus id: 0000:04:00.0, compute capability: 6.1\n",
      "2024-03-24 23:08:01.069468: I tensorflow/core/common_runtime/gpu/gpu_device.cc:1929] Created device /job:localhost/replica:0/task:0/device:GPU:4 with 7285 MB memory:  -> device: 4, name: NVIDIA GeForce GTX 1080, pci bus id: 0000:05:00.0, compute capability: 6.1\n",
      "2024-03-24 23:08:01.070754: I tensorflow/core/common_runtime/gpu/gpu_device.cc:1929] Created device /job:localhost/replica:0/task:0/device:GPU:5 with 7285 MB memory:  -> device: 5, name: NVIDIA GeForce GTX 1080, pci bus id: 0000:83:00.0, compute capability: 6.1\n",
      "2024-03-24 23:08:01.072040: I tensorflow/core/common_runtime/gpu/gpu_device.cc:1929] Created device /job:localhost/replica:0/task:0/device:GPU:6 with 7285 MB memory:  -> device: 6, name: NVIDIA GeForce GTX 1080, pci bus id: 0000:84:00.0, compute capability: 6.1\n"
     ]
    }
   ],
   "source": [
    "from tensorflow.keras.models import Model\n",
    "from tensorflow.keras.layers import Input, concatenate, Dense\n",
    "from tensorflow.keras.layers import Embedding, Conv1D, GlobalMaxPooling1D\n",
    "from tensorflow.keras.layers import Flatten\n",
    "\n",
    "# CNN part for text\n",
    "text_input = Input(shape=(MAX_SEQUENCE_LENGTH,), dtype='int32')\n",
    "text_features = Embedding(VOCAB_SIZE, EMBEDDING_DIM)(text_input)\n",
    "text_features = Conv1D(FILTERS, KERNEL_SIZE, activation='relu')(text_features)\n",
    "text_features = GlobalMaxPooling1D()(text_features)\n",
    "\n",
    "# MLP part for linguistic features\n",
    "linguistic_input = Input(shape=(X_train_features.shape[1],))\n",
    "linguistic_features = Dense(DENSE_UNITS, activation='relu')(linguistic_input)\n",
    "\n",
    "# Concatenate the outputs of the two models\n",
    "combined_features = concatenate([text_features, linguistic_features])\n",
    "\n",
    "# Final classification layer\n",
    "classification_output = Dense(1, activation='sigmoid')(combined_features)\n",
    "\n",
    "model = Model(inputs=[text_input, linguistic_input], outputs=classification_output)\n",
    "\n",
    "model.compile(optimizer='adam',\n",
    "              loss='binary_crossentropy',\n",
    "              metrics=['accuracy'])\n",
    "\n",
    "model.summary()"
   ]
  },
  {
   "cell_type": "code",
   "execution_count": 10,
   "id": "aecc0f83-1b44-4930-b86f-33c28ee85f60",
   "metadata": {},
   "outputs": [
    {
     "name": "stdout",
     "output_type": "stream",
     "text": [
      "Epoch 1/10\n"
     ]
    },
    {
     "name": "stderr",
     "output_type": "stream",
     "text": [
      "2024-03-24 23:08:02.988110: I external/local_xla/xla/stream_executor/cuda/cuda_dnn.cc:454] Loaded cuDNN version 8904\n",
      "2024-03-24 23:08:02.991861: I external/local_tsl/tsl/platform/default/subprocess.cc:304] Start cannot spawn child process: No such file or directory\n",
      "2024-03-24 23:08:03.190260: I external/local_tsl/tsl/platform/default/subprocess.cc:304] Start cannot spawn child process: No such file or directory\n",
      "2024-03-24 23:08:04.438025: I external/local_xla/xla/service/service.cc:168] XLA service 0x7f33916187a0 initialized for platform CUDA (this does not guarantee that XLA will be used). Devices:\n",
      "2024-03-24 23:08:04.438079: I external/local_xla/xla/service/service.cc:176]   StreamExecutor device (0): NVIDIA GeForce RTX 2080 Ti, Compute Capability 7.5\n",
      "2024-03-24 23:08:04.438090: I external/local_xla/xla/service/service.cc:176]   StreamExecutor device (1): NVIDIA GeForce RTX 2080 Ti, Compute Capability 7.5\n",
      "2024-03-24 23:08:04.438098: I external/local_xla/xla/service/service.cc:176]   StreamExecutor device (2): NVIDIA GeForce RTX 2080 Ti, Compute Capability 7.5\n",
      "2024-03-24 23:08:04.438106: I external/local_xla/xla/service/service.cc:176]   StreamExecutor device (3): NVIDIA GeForce GTX 1080, Compute Capability 6.1\n",
      "2024-03-24 23:08:04.438114: I external/local_xla/xla/service/service.cc:176]   StreamExecutor device (4): NVIDIA GeForce GTX 1080, Compute Capability 6.1\n",
      "2024-03-24 23:08:04.438121: I external/local_xla/xla/service/service.cc:176]   StreamExecutor device (5): NVIDIA GeForce GTX 1080, Compute Capability 6.1\n",
      "2024-03-24 23:08:04.438129: I external/local_xla/xla/service/service.cc:176]   StreamExecutor device (6): NVIDIA GeForce GTX 1080, Compute Capability 6.1\n",
      "2024-03-24 23:08:04.448755: I tensorflow/compiler/mlir/tensorflow/utils/dump_mlir_util.cc:269] disabling MLIR crash reproducer, set env var `MLIR_CRASH_REPRODUCER_DIRECTORY` to enable.\n",
      "WARNING: All log messages before absl::InitializeLog() is called are written to STDERR\n",
      "I0000 00:00:1711336084.646721  711554 device_compiler.h:186] Compiled cluster using XLA!  This line is logged at most once for the lifetime of the process.\n"
     ]
    },
    {
     "name": "stdout",
     "output_type": "stream",
     "text": [
      "729/729 [==============================] - 100s 130ms/step - loss: 0.7993 - accuracy: 0.9184 - val_loss: 0.0466 - val_accuracy: 0.9835\n",
      "Epoch 2/10\n",
      "729/729 [==============================] - 26s 36ms/step - loss: 0.0231 - accuracy: 0.9928 - val_loss: 0.0263 - val_accuracy: 0.9885\n",
      "Epoch 3/10\n",
      "729/729 [==============================] - 15s 21ms/step - loss: 0.0057 - accuracy: 0.9987 - val_loss: 0.0243 - val_accuracy: 0.9900\n",
      "Epoch 4/10\n",
      "729/729 [==============================] - 10s 14ms/step - loss: 0.0015 - accuracy: 0.9998 - val_loss: 0.0238 - val_accuracy: 0.9902\n",
      "Epoch 5/10\n",
      "729/729 [==============================] - 8s 12ms/step - loss: 3.7724e-04 - accuracy: 1.0000 - val_loss: 0.0226 - val_accuracy: 0.9914\n",
      "Epoch 6/10\n",
      "729/729 [==============================] - 10s 14ms/step - loss: 1.6812e-04 - accuracy: 1.0000 - val_loss: 0.0225 - val_accuracy: 0.9911\n",
      "Epoch 7/10\n",
      "729/729 [==============================] - 10s 13ms/step - loss: 9.5565e-05 - accuracy: 1.0000 - val_loss: 0.0225 - val_accuracy: 0.9913\n",
      "Epoch 8/10\n",
      "729/729 [==============================] - 9s 12ms/step - loss: 5.9259e-05 - accuracy: 1.0000 - val_loss: 0.0230 - val_accuracy: 0.9918\n",
      "Epoch 9/10\n",
      "729/729 [==============================] - 6s 9ms/step - loss: 3.7273e-05 - accuracy: 1.0000 - val_loss: 0.0233 - val_accuracy: 0.9921\n"
     ]
    }
   ],
   "source": [
    "from tensorflow.keras.callbacks import EarlyStopping\n",
    "\n",
    "# Convert labels to numpy arrays\n",
    "y_train = np.array(y_train)\n",
    "y_test = np.array(y_test)\n",
    "\n",
    "# Define early stopping\n",
    "early_stopping = EarlyStopping(monitor='val_loss', patience=3, mode='min', restore_best_weights=True)\n",
    "\n",
    "# Train the model\n",
    "history = model.fit([X_train_padded, X_train_features], y_train, \n",
    "                    batch_size=32, \n",
    "                    epochs=10, \n",
    "                    validation_data=([X_test_padded, X_test_features], y_test),\n",
    "                    callbacks=[early_stopping])\n",
    "\n",
    "# Note: The batch_size and epochs are set to small numbers for demonstration and might need adjustment."
   ]
  },
  {
   "cell_type": "code",
   "execution_count": 11,
   "id": "ff4ece8a-d377-4f01-b921-4795b64b67a9",
   "metadata": {},
   "outputs": [
    {
     "name": "stdout",
     "output_type": "stream",
     "text": [
      "183/183 [==============================] - 1s 3ms/step - loss: 0.0225 - accuracy: 0.9911\n",
      "Test Accuracy: 99.11%\n"
     ]
    },
    {
     "data": {
      "image/png": "[encoded data removed]",
      "text/plain": [
       "<Figure size 1200x600 with 2 Axes>"
      ]
     },
     "metadata": {},
     "output_type": "display_data"
    }
   ],
   "source": [
    "import matplotlib.pyplot as plt\n",
    "\n",
    "# Evaluate the model on the test set\n",
    "test_loss, test_accuracy = model.evaluate([X_test_padded, X_test_features], y_test)\n",
    "print(f\"Test Accuracy: {test_accuracy*100:.2f}%\")\n",
    "\n",
    "# Plotting training history\n",
    "def plot_history(history):\n",
    "    plt.figure(figsize=(12, 6))\n",
    "    \n",
    "    plt.subplot(1, 2, 1)\n",
    "    plt.plot(history.history['accuracy'], label='Training Accuracy')\n",
    "    plt.plot(history.history['val_accuracy'], label='Validation Accuracy')\n",
    "    plt.title('Accuracy over epochs')\n",
    "    plt.xlabel('Epoch')\n",
    "    plt.ylabel('Accuracy')\n",
    "    plt.legend()\n",
    "    \n",
    "    plt.subplot(1, 2, 2)\n",
    "    plt.plot(history.history['loss'], label='Training Loss')\n",
    "    plt.plot(history.history['val_loss'], label='Validation Loss')\n",
    "    plt.title('Loss over epochs')\n",
    "    plt.xlabel('Epoch')\n",
    "    plt.ylabel('Loss')\n",
    "    plt.legend()\n",
    "    \n",
    "    plt.tight_layout()\n",
    "    plt.show()\n",
    "\n",
    "plot_history(history)"
   ]
  },
  {
   "cell_type": "code",
   "execution_count": 12,
   "id": "dad8aa44-caf7-45f9-88e9-a8f8aecec668",
   "metadata": {},
   "outputs": [
    {
     "name": "stdin",
     "output_type": "stream",
     "text": [
      "Please enter a sentence to classify:    I find it difficult to impose any sort of rigid cartographic principles on most of these. For example, the Fra Mauro map seems to duplicate labels liberally to show extent. There are 2 labels for Europe and 3 for Asia. Not to mention 2 Egypts, 2 Mesopotamias, 2 Tartarias etc.For the Waldseem√ºller map, the principle seems to be finding empty space, so Europe has the smallest letters of all the major land-masses, and the most dispersed (I also can't find the 'EU'). But like with Asia, Africa has been set in an essentially empty section of the map. It also has the province of Africa and Libya... so I'm with you on the problem of how to interpret 'Libya Inferior'. It seems to denote an intermediate sized region along the lines of Ethiopia. But we find duplications in medieval mappaemundi as well. The Ebstorf Map, for example, has Africa written in large capitals across the landmass, but also has 'Africa' written in small caps under the 'A' of Africa, itself very near the above quotation of Isidore about the etymology of Africa. Now this doesn't obviously reference a province, since under 'Libia' there is another text explaining that the region there is either Zeugis or Africa (with another paraphrase of Isidore).\n"
     ]
    },
    {
     "name": "stdout",
     "output_type": "stream",
     "text": [
      "1/1 [==============================] - 0s 324ms/step\n",
      "The text is predicted to be a Human Written Essay.\n"
     ]
    }
   ],
   "source": [
    "def predict_text(text):\n",
    "    # Tokenize and pad the input text\n",
    "    seq = tokenizer.texts_to_sequences([text])\n",
    "    padded_seq = pad_sequences(seq, maxlen=MAX_SEQUENCE_LENGTH, padding='post', truncating='post')\n",
    "    text_length = len(text.split())\n",
    "    avg_word_length = np.mean([len(word) for word in text.split()])\n",
    "    features = np.array([[text_length, avg_word_length]])\n",
    "    \n",
    "    # Make a prediction\n",
    "    prediction = model.predict([padded_seq, features])\n",
    "    \n",
    "    # Interpret the prediction\n",
    "    if prediction >= 0.5:\n",
    "        print(\"The text is predicted to be an AI Generated Essay.\")\n",
    "    else:\n",
    "        print(\"The text is predicted to be a Human Written Essay.\")\n",
    "\n",
    "# Example usage\n",
    "user_input = input(\"Please enter a sentence to classify: \")\n",
    "predict_text(user_input)\n"
   ]
  },
  {
   "cell_type": "code",
   "execution_count": 13,
   "id": "a7033dd0-cc7c-4874-947d-8329f526050b",
   "metadata": {},
   "outputs": [
    {
     "name": "stdin",
     "output_type": "stream",
     "text": [
      "Please enter a sentence to classify:  Please enter a sentence to classify: Indiana University–Purdue University Indianapolis, commonly referred to as IUPUI,[a] is a public research university in Indianapolis, Indiana, United States. It is a collaboration between Indiana University and Purdue University that offers undergraduate, graduate, and professional degrees from both universities. Administered primarily through Indiana University as a core campus and secondarily through Purdue University as a regional campus, it is Indiana's primary urban research and academic health sciences institution. IUPUI is located in downtown Indianapolis along the White River and Fall Creek.  Among more than 550 degree programs, the urban university hosts the primary campuses for both the Indiana University School of Medicine, with more than 2,000 students, and the Indiana University School of Dentistry, the only dental school in the state. Also, the Indiana University Robert H. McKinney School of Law is one of the two Indiana University law schools.[8][9] After excluding the research budget of the IU School of Medicine, IUPUI is classified among \"R2: Doctoral Universities – High research activity.\"  The IUPUI Jaguars compete in the NCAA's Division I in the Horizon League. Several athletics venues are located on the campus, including the IU Michael A. Carroll Track & Soccer Stadium and Indiana University Natatorium, the largest indoor pool in the United States with a seating capacity of 4,700.  On August 12, 2022, the boards of trustees of both Purdue and IU announced that IUPUI will split into two separate universities, Indiana University Indianapolis and Purdue University in Indianapolis, with completion of the split to be finished by the fall 2024 semester.\n"
     ]
    },
    {
     "name": "stdout",
     "output_type": "stream",
     "text": [
      "1/1 [==============================] - 0s 44ms/step\n",
      "The text is predicted to be an AI Generated Essay.\n"
     ]
    }
   ],
   "source": [
    "user_input = input(\"Please enter a sentence to classify: \")\n",
    "predict_text(user_input)"
   ]
  }
 ],
 "metadata": {
  "kernelspec": {
   "display_name": "Python 3 (ipykernel)",
   "language": "python",
   "name": "python3"
  },
  "language_info": {
   "codemirror_mode": {
    "name": "ipython",
    "version": 3
   },
   "file_extension": ".py",
   "mimetype": "text/x-python",
   "name": "python",
   "nbconvert_exporter": "python",
   "pygments_lexer": "ipython3",
   "version": "3.10.12"
  }
 },
 "nbformat": 4,
 "nbformat_minor": 5
}
